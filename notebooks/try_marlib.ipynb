{
 "cells": [
  {
   "cell_type": "code",
   "execution_count": 1,
   "metadata": {},
   "outputs": [
    {
     "name": "stderr",
     "output_type": "stream",
     "text": [
      "c:\\Users\\novik\\OneDrive\\Documents\\4. PHD\\Project\\DynamicLoanPricing_POC\\single-agent-dlp\\.venv\\lib\\site-packages\\tqdm\\auto.py:21: TqdmWarning: IProgress not found. Please update jupyter and ipywidgets. See https://ipywidgets.readthedocs.io/en/stable/user_install.html\n",
      "  from .autonotebook import tqdm as notebook_tqdm\n"
     ]
    }
   ],
   "source": [
    "from marllib import marl"
   ]
  },
  {
   "cell_type": "code",
   "execution_count": 2,
   "metadata": {},
   "outputs": [
    {
     "name": "stdout",
     "output_type": "stream",
     "text": [
      "+--------------------+----------------+----------------------------------------------------------------------+----------------------------------------------+-------------------------------------+\n",
      "| Env_Name           | Check_Status   | Error_Log                                                            | Config_File_Location                         | Env_File_Location                   |\n",
      "+====================+================+======================================================================+==============================================+=====================================+\n",
      "| gymnasium_mamujoco | Error          | No module named 'gymnasium_robotics'                                 | envs/base_env/config/gymnasium_mamujoco.yaml | envs/base_env/gymnasium_mamujoco.py |\n",
      "+--------------------+----------------+----------------------------------------------------------------------+----------------------------------------------+-------------------------------------+\n",
      "| mpe                | Ready          | Null                                                                 | envs/base_env/config/mpe.yaml                | envs/base_env/mpe.py                |\n",
      "+--------------------+----------------+----------------------------------------------------------------------+----------------------------------------------+-------------------------------------+\n",
      "| gymnasium_mpe      | Error          | cannot import name 'simple_adversary_v3' from 'pettingzoo.mpe'       | envs/base_env/config/gymnasium_mpe.yaml      | envs/base_env/gymnasium_mpe.py      |\n",
      "+--------------------+----------------+----------------------------------------------------------------------+----------------------------------------------+-------------------------------------+\n",
      "| mamujoco           | Error          | No module named 'multiagent_mujoco'                                  | envs/base_env/config/mamujoco.yaml           | envs/base_env/mamujoco.py           |\n",
      "+--------------------+----------------+----------------------------------------------------------------------+----------------------------------------------+-------------------------------------+\n",
      "| smac               | Error          | No module named 'smac'                                               | envs/base_env/config/smac.yaml               | envs/base_env/smac.py               |\n",
      "+--------------------+----------------+----------------------------------------------------------------------+----------------------------------------------+-------------------------------------+\n",
      "| football           | Error          | No module named 'gfootball'                                          | envs/base_env/config/football.yaml           | envs/base_env/football.py           |\n",
      "+--------------------+----------------+----------------------------------------------------------------------+----------------------------------------------+-------------------------------------+\n",
      "| magent             | Error          | cannot import name 'adversarial_pursuit_v3' from 'pettingzoo.magent' | envs/base_env/config/magent.yaml             | envs/base_env/magent.py             |\n",
      "+--------------------+----------------+----------------------------------------------------------------------+----------------------------------------------+-------------------------------------+\n",
      "| rware              | Error          | No module named 'rware'                                              | envs/base_env/config/rware.yaml              | envs/base_env/rware.py              |\n",
      "+--------------------+----------------+----------------------------------------------------------------------+----------------------------------------------+-------------------------------------+\n",
      "| lbf                | Error          | No module named 'lbforaging'                                         | envs/base_env/config/lbf.yaml                | envs/base_env/lbf.py                |\n",
      "+--------------------+----------------+----------------------------------------------------------------------+----------------------------------------------+-------------------------------------+\n",
      "| pommerman          | Error          | No module named 'pommerman'                                          | envs/base_env/config/pommerman.yaml          | envs/base_env/pommerman.py          |\n",
      "+--------------------+----------------+----------------------------------------------------------------------+----------------------------------------------+-------------------------------------+\n",
      "| hanabi             | Error          | No module named 'cffi'                                               | envs/base_env/config/hanabi.yaml             | envs/base_env/hanabi.py             |\n",
      "+--------------------+----------------+----------------------------------------------------------------------+----------------------------------------------+-------------------------------------+\n",
      "| metadrive          | Error          | No module named 'metadrive'                                          | envs/base_env/config/metadrive.yaml          | envs/base_env/metadrive.py          |\n",
      "+--------------------+----------------+----------------------------------------------------------------------+----------------------------------------------+-------------------------------------+\n",
      "| mate               | Error          | No module named 'mate'                                               | envs/base_env/config/mate.yaml               | envs/base_env/mate.py               |\n",
      "+--------------------+----------------+----------------------------------------------------------------------+----------------------------------------------+-------------------------------------+\n",
      "| gobigger           | Error          | No module named 'gobigger'                                           | envs/base_env/config/gobigger.yaml           | envs/base_env/gobigger.py           |\n",
      "+--------------------+----------------+----------------------------------------------------------------------+----------------------------------------------+-------------------------------------+\n",
      "| overcooked         | Error          | No module named 'overcooked_ai_py'                                   | envs/base_env/config/overcooked.yaml         | envs/base_env/overcooked.py         |\n",
      "+--------------------+----------------+----------------------------------------------------------------------+----------------------------------------------+-------------------------------------+\n",
      "| voltage            | Error          | No module named 'pandapower'                                         | envs/base_env/config/voltage.yaml            | envs/base_env/voltage.py            |\n",
      "+--------------------+----------------+----------------------------------------------------------------------+----------------------------------------------+-------------------------------------+\n",
      "| aircombat          | Error          | No module named 'jsbsim'                                             | envs/base_env/config/aircombat.yaml          | envs/base_env/aircombat.py          |\n",
      "+--------------------+----------------+----------------------------------------------------------------------+----------------------------------------------+-------------------------------------+\n",
      "| hns                | Error          | No module named 'mujoco_worldgen'                                    | envs/base_env/config/hns.yaml                | envs/base_env/hns.py                |\n",
      "+--------------------+----------------+----------------------------------------------------------------------+----------------------------------------------+-------------------------------------+\n",
      "| sisl               | Error          | cannot import name 'multiwalker_v7' from 'pettingzoo.sisl'           | envs/base_env/config/sisl.yaml               | envs/base_env/sisl.py               |\n",
      "+--------------------+----------------+----------------------------------------------------------------------+----------------------------------------------+-------------------------------------+\n"
     ]
    },
    {
     "name": "stderr",
     "output_type": "stream",
     "text": [
      "c:\\Users\\novik\\OneDrive\\Documents\\4. PHD\\Project\\DynamicLoanPricing_POC\\single-agent-dlp\\.venv\\lib\\site-packages\\pettingzoo\\utils\\wrappers\\base.py:59: UserWarning: The `action_spaces` dictionary is deprecated. Use the `action_space` function instead.\n",
      "  warnings.warn(\"The `action_spaces` dictionary is deprecated. Use the `action_space` function instead.\")\n",
      "c:\\Users\\novik\\OneDrive\\Documents\\4. PHD\\Project\\DynamicLoanPricing_POC\\single-agent-dlp\\.venv\\lib\\site-packages\\pettingzoo\\utils\\wrappers\\base.py:51: UserWarning: The `observation_spaces` dictionary is deprecated. Use the `observation_space` function instead.\n",
      "  warnings.warn(\"The `observation_spaces` dictionary is deprecated. Use the `observation_space` function instead.\")\n",
      "c:\\Users\\novik\\OneDrive\\Documents\\4. PHD\\Project\\DynamicLoanPricing_POC\\single-agent-dlp\\.venv\\lib\\site-packages\\pettingzoo\\utils\\conversions.py:61: UserWarning: The `observation_spaces` dictionary is deprecated. Use the `observation_space` function instead.\n",
      "  warnings.warn(\"The `observation_spaces` dictionary is deprecated. Use the `observation_space` function instead.\")\n",
      "c:\\Users\\novik\\OneDrive\\Documents\\4. PHD\\Project\\DynamicLoanPricing_POC\\single-agent-dlp\\.venv\\lib\\site-packages\\pettingzoo\\utils\\conversions.py:69: UserWarning: The `action_spaces` dictionary is deprecated. Use the `action_space` function instead.\n",
      "  warnings.warn(\"The `action_spaces` dictionary is deprecated. Use the `action_space` function instead.\")\n"
     ]
    }
   ],
   "source": [
    "# prepare env\n",
    "env = marl.make_env(environment_name=\"mpe\", map_name=\"simple_adversary\", continuous_actions=True)"
   ]
  },
  {
   "cell_type": "code",
   "execution_count": 3,
   "metadata": {},
   "outputs": [
    {
     "data": {
      "text/plain": [
       "(<marllib.envs.base_env.mpe.RLlibMPE at 0x27d7226c4f0>,\n",
       " {'env': 'mpe',\n",
       "  'env_args': {'continuous_actions': True,\n",
       "   'max_cycles': 25,\n",
       "   'map_name': 'simple_adversary'},\n",
       "  'mask_flag': False,\n",
       "  'global_state_flag': False,\n",
       "  'opp_action_in_cc': True,\n",
       "  'agent_level_batch_update': False,\n",
       "  'force_coop': False,\n",
       "  'local_mode': True,\n",
       "  'share_policy': 'group',\n",
       "  'evaluation_interval': 50,\n",
       "  'framework': 'torch',\n",
       "  'num_workers': 1,\n",
       "  'num_gpus': 1,\n",
       "  'num_cpus_per_worker': 1,\n",
       "  'num_gpus_per_worker': 0,\n",
       "  'checkpoint_freq': 100,\n",
       "  'checkpoint_end': True,\n",
       "  'restore_path': {'model_path': '', 'params_path': ''},\n",
       "  'stop_iters': 9999999,\n",
       "  'stop_timesteps': 2000000,\n",
       "  'stop_reward': 999999,\n",
       "  'seed': 321,\n",
       "  'local_dir': ''})"
      ]
     },
     "execution_count": 3,
     "metadata": {},
     "output_type": "execute_result"
    }
   ],
   "source": [
    "env"
   ]
  },
  {
   "cell_type": "code",
   "execution_count": 4,
   "metadata": {},
   "outputs": [],
   "source": [
    "# initialize algorithm with appointed hyper-parameters\n",
    "ippo = marl.algos.ippo(hyperparam_source=\"mpe\")"
   ]
  },
  {
   "cell_type": "code",
   "execution_count": 5,
   "metadata": {},
   "outputs": [],
   "source": [
    "# build agent model based on env + algorithms + user preference\n",
    "model = marl.build_model(env, ippo, {\"core_arch\": \"mlp\", \"encode_layer\": \"128-256\"})"
   ]
  },
  {
   "cell_type": "code",
   "execution_count": 6,
   "metadata": {},
   "outputs": [
    {
     "name": "stderr",
     "output_type": "stream",
     "text": [
      "2025-03-09 15:18:43,250\tWARNING sample.py:401 -- DeprecationWarning: wrapping <function run_il.<locals>.<lambda> at 0x0000027D7C3BEE50> with tune.function() is no longer needed\n",
      "2025-03-09 15:18:43,587\tWARNING worker.py:496 -- `ray.get_gpu_ids()` will always return the empty list when called from the driver. This is because Ray does not manage GPU allocations to the driver process.\n"
     ]
    },
    {
     "name": "stdout",
     "output_type": "stream",
     "text": [
      ":task_name:bundle_reservation_check_func\n",
      ":actor_name:IPPOTrainer\n"
     ]
    },
    {
     "name": "stderr",
     "output_type": "stream",
     "text": [
      "2025-03-09 15:18:43,884\tWARNING deprecation.py:38 -- DeprecationWarning: `simple_optimizer` has been deprecated. This will raise an error in the future!\n",
      "2025-03-09 15:18:43,886\tINFO ppo.py:166 -- In multi-agent mode, policies will be optimized sequentially by the multi-GPU optimizer. Consider setting simple_optimizer=True if this doesn't work for you.\n",
      "2025-03-09 15:18:43,887\tINFO trainer.py:770 -- Current log_level is WARN. For more information, set 'log_level': 'INFO' / 'DEBUG' or use the -v and -vv flags.\n"
     ]
    },
    {
     "name": "stdout",
     "output_type": "stream",
     "text": [
      ":actor_name:RolloutWorker\n"
     ]
    },
    {
     "name": "stderr",
     "output_type": "stream",
     "text": [
      "2025-03-09 15:18:44,238\tWARNING deprecation.py:38 -- DeprecationWarning: `SampleBatch['is_training']` has been deprecated. Use `SampleBatch.is_training` instead. This will raise an error in the future!\n",
      "2025-03-09 15:18:44,542\tWARNING trainer_template.py:185 -- `execution_plan` functions should accept `trainer`, `workers`, and `config` as args!\n",
      "2025-03-09 15:18:44,546\tWARNING deprecation.py:38 -- DeprecationWarning: `simple_optimizer` has been deprecated. This will raise an error in the future!\n",
      "c:\\Users\\novik\\OneDrive\\Documents\\4. PHD\\Project\\DynamicLoanPricing_POC\\single-agent-dlp\\.venv\\lib\\site-packages\\pettingzoo\\utils\\wrappers\\base.py:59: UserWarning: The `action_spaces` dictionary is deprecated. Use the `action_space` function instead.\n",
      "  warnings.warn(\"The `action_spaces` dictionary is deprecated. Use the `action_space` function instead.\")\n",
      "c:\\Users\\novik\\OneDrive\\Documents\\4. PHD\\Project\\DynamicLoanPricing_POC\\single-agent-dlp\\.venv\\lib\\site-packages\\pettingzoo\\utils\\wrappers\\base.py:51: UserWarning: The `observation_spaces` dictionary is deprecated. Use the `observation_space` function instead.\n",
      "  warnings.warn(\"The `observation_spaces` dictionary is deprecated. Use the `observation_space` function instead.\")\n",
      "c:\\Users\\novik\\OneDrive\\Documents\\4. PHD\\Project\\DynamicLoanPricing_POC\\single-agent-dlp\\.venv\\lib\\site-packages\\pettingzoo\\utils\\conversions.py:61: UserWarning: The `observation_spaces` dictionary is deprecated. Use the `observation_space` function instead.\n",
      "  warnings.warn(\"The `observation_spaces` dictionary is deprecated. Use the `observation_space` function instead.\")\n",
      "c:\\Users\\novik\\OneDrive\\Documents\\4. PHD\\Project\\DynamicLoanPricing_POC\\single-agent-dlp\\.venv\\lib\\site-packages\\pettingzoo\\utils\\conversions.py:69: UserWarning: The `action_spaces` dictionary is deprecated. Use the `action_space` function instead.\n",
      "  warnings.warn(\"The `action_spaces` dictionary is deprecated. Use the `action_space` function instead.\")\n",
      "2025-03-09 15:18:44,614\tWARNING util.py:57 -- Install gputil for GPU system monitoring.\n",
      "2025-03-09 15:18:44,770\tWARNING deprecation.py:38 -- DeprecationWarning: `policy_mapping_fn(agent_id)` has been deprecated. Use `policy_mapping_fn(agent_id, episode, worker, **kwargs)` instead. This will raise an error in the future!\n"
     ]
    },
    {
     "name": "stdout",
     "output_type": "stream",
     "text": [
      ":actor_name:IPPOTrainer\n"
     ]
    },
    {
     "name": "stderr",
     "output_type": "stream",
     "text": [
      "2025-03-09 15:19:10,574\tERROR syncer.py:75 -- Log sync requires rsync to be installed.\n",
      "c:\\Users\\novik\\OneDrive\\Documents\\4. PHD\\Project\\DynamicLoanPricing_POC\\single-agent-dlp\\.venv\\lib\\site-packages\\pettingzoo\\utils\\wrappers\\base.py:59: UserWarning: The `action_spaces` dictionary is deprecated. Use the `action_space` function instead.\n",
      "  warnings.warn(\"The `action_spaces` dictionary is deprecated. Use the `action_space` function instead.\")\n"
     ]
    },
    {
     "name": "stdout",
     "output_type": "stream",
     "text": [
      "== Status ==\n",
      "Current time: 2025-03-09 15:19:10 (running for 00:00:27.21)\n",
      "Memory usage on this node: 26.2/31.8 GiB\n",
      "Using FIFO scheduling algorithm.\n",
      "Resources requested: 2.0/12 CPUs, 0/0 GPUs, 0.0/4.26 GiB heap, 0.0/2.13 GiB objects\n",
      "Result logdir: c:\\Users\\novik\\OneDrive\\Documents\\4. PHD\\Project\\DynamicLoanPricing_POC\\single-agent-dlp\\notebooks\\exp_results\\ippo_mlp_simple_adversary\n",
      "Number of trials: 1/1 (1 RUNNING)\n",
      "+----------------------------------------------+----------+-----------------+\n",
      "| Trial name                                   | status   | loc             |\n",
      "|----------------------------------------------+----------+-----------------|\n",
      "| IPPOTrainer_mpe_simple_adversary_c9b13_00000 | RUNNING  | 127.0.0.1:84988 |\n",
      "+----------------------------------------------+----------+-----------------+\n",
      "\n",
      "\n",
      "== Status ==\n",
      "Current time: 2025-03-09 15:19:31 (running for 00:00:48.07)\n",
      "Memory usage on this node: 26.2/31.8 GiB\n",
      "Using FIFO scheduling algorithm.\n",
      "Resources requested: 2.0/12 CPUs, 0/0 GPUs, 0.0/4.26 GiB heap, 0.0/2.13 GiB objects\n",
      "Result logdir: c:\\Users\\novik\\OneDrive\\Documents\\4. PHD\\Project\\DynamicLoanPricing_POC\\single-agent-dlp\\notebooks\\exp_results\\ippo_mlp_simple_adversary\n",
      "Number of trials: 1/1 (1 RUNNING)\n",
      "+----------------------------------------------+----------+-----------------+--------+------------------+------+----------+----------------------+----------------------+--------------------+\n",
      "| Trial name                                   | status   | loc             |   iter |   total time (s) |   ts |   reward |   episode_reward_max |   episode_reward_min |   episode_len_mean |\n",
      "|----------------------------------------------+----------+-----------------+--------+------------------+------+----------+----------------------+----------------------+--------------------|\n",
      "| IPPOTrainer_mpe_simple_adversary_c9b13_00000 | RUNNING  | 127.0.0.1:84988 |      1 |          25.7811 | 3200 | -12.9294 |              26.4096 |             -63.4682 |                 25 |\n",
      "+----------------------------------------------+----------+-----------------+--------+------------------+------+----------+----------------------+----------------------+--------------------+\n",
      "\n",
      "\n"
     ]
    },
    {
     "name": "stderr",
     "output_type": "stream",
     "text": [
      "c:\\Users\\novik\\OneDrive\\Documents\\4. PHD\\Project\\DynamicLoanPricing_POC\\single-agent-dlp\\.venv\\lib\\site-packages\\pettingzoo\\utils\\wrappers\\base.py:59: UserWarning: The `action_spaces` dictionary is deprecated. Use the `action_space` function instead.\n",
      "  warnings.warn(\"The `action_spaces` dictionary is deprecated. Use the `action_space` function instead.\")\n",
      "2025-03-09 15:19:52,786\tWARNING ray_trial_executor.py:768 -- Over the last 60 seconds, the Tune event loop has been backlogged processing new results. Consider increasing your period of result reporting to improve performance.\n"
     ]
    },
    {
     "name": "stdout",
     "output_type": "stream",
     "text": [
      "== Status ==\n",
      "Current time: 2025-03-09 15:19:52 (running for 00:01:09.38)\n",
      "Memory usage on this node: 26.7/31.8 GiB\n",
      "Using FIFO scheduling algorithm.\n",
      "Resources requested: 2.0/12 CPUs, 0/0 GPUs, 0.0/4.26 GiB heap, 0.0/2.13 GiB objects\n",
      "Result logdir: c:\\Users\\novik\\OneDrive\\Documents\\4. PHD\\Project\\DynamicLoanPricing_POC\\single-agent-dlp\\notebooks\\exp_results\\ippo_mlp_simple_adversary\n",
      "Number of trials: 1/1 (1 RUNNING)\n",
      "+----------------------------------------------+----------+-----------------+--------+------------------+------+----------+----------------------+----------------------+--------------------+\n",
      "| Trial name                                   | status   | loc             |   iter |   total time (s) |   ts |   reward |   episode_reward_max |   episode_reward_min |   episode_len_mean |\n",
      "|----------------------------------------------+----------+-----------------+--------+------------------+------+----------+----------------------+----------------------+--------------------|\n",
      "| IPPOTrainer_mpe_simple_adversary_c9b13_00000 | RUNNING  | 127.0.0.1:84988 |      2 |          46.5069 | 6400 | -13.1735 |              37.4259 |             -72.2664 |                 25 |\n",
      "+----------------------------------------------+----------+-----------------+--------+------------------+------+----------+----------------------+----------------------+--------------------+\n",
      "\n",
      "\n"
     ]
    },
    {
     "name": "stderr",
     "output_type": "stream",
     "text": [
      "2025-03-09 15:19:53,358\tINFO tune.py:630 -- Total run time: 70.10 seconds (69.78 seconds for the tuning loop).\n"
     ]
    },
    {
     "name": "stdout",
     "output_type": "stream",
     "text": [
      "== Status ==\n",
      "Current time: 2025-03-09 15:19:53 (running for 00:01:09.84)\n",
      "Memory usage on this node: 26.7/31.8 GiB\n",
      "Using FIFO scheduling algorithm.\n",
      "Resources requested: 0/12 CPUs, 0/0 GPUs, 0.0/4.26 GiB heap, 0.0/2.13 GiB objects\n",
      "Result logdir: c:\\Users\\novik\\OneDrive\\Documents\\4. PHD\\Project\\DynamicLoanPricing_POC\\single-agent-dlp\\notebooks\\exp_results\\ippo_mlp_simple_adversary\n",
      "Number of trials: 1/1 (1 TERMINATED)\n",
      "+----------------------------------------------+------------+-----------------+--------+------------------+------+----------+----------------------+----------------------+--------------------+\n",
      "| Trial name                                   | status     | loc             |   iter |   total time (s) |   ts |   reward |   episode_reward_max |   episode_reward_min |   episode_len_mean |\n",
      "|----------------------------------------------+------------+-----------------+--------+------------------+------+----------+----------------------+----------------------+--------------------|\n",
      "| IPPOTrainer_mpe_simple_adversary_c9b13_00000 | TERMINATED | 127.0.0.1:84988 |      3 |          67.6747 | 9600 | -10.7427 |              38.5278 |             -61.8884 |                 25 |\n",
      "+----------------------------------------------+------------+-----------------+--------+------------------+------+----------+----------------------+----------------------+--------------------+\n",
      "\n",
      "\n"
     ]
    },
    {
     "data": {
      "text/plain": [
       "<ray.tune.analysis.experiment_analysis.ExperimentAnalysis at 0x27d7c1e41f0>"
      ]
     },
     "execution_count": 6,
     "metadata": {},
     "output_type": "execute_result"
    }
   ],
   "source": [
    "# start training\n",
    "ippo.fit(env, model, stop={\"timesteps_total\": 7000}, checkpoint_freq=100, share_policy=\"individual\", num_gpus=0)"
   ]
  }
 ],
 "metadata": {
  "kernelspec": {
   "display_name": ".venv",
   "language": "python",
   "name": "python3"
  },
  "language_info": {
   "codemirror_mode": {
    "name": "ipython",
    "version": 3
   },
   "file_extension": ".py",
   "mimetype": "text/x-python",
   "name": "python",
   "nbconvert_exporter": "python",
   "pygments_lexer": "ipython3",
   "version": "3.9.21"
  }
 },
 "nbformat": 4,
 "nbformat_minor": 2
}
